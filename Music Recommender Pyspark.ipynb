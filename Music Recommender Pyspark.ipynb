{
 "cells": [
  {
   "cell_type": "markdown",
   "id": "b911a9b3",
   "metadata": {},
   "source": [
    "# Importing Libraries "
   ]
  },
  {
   "cell_type": "code",
   "execution_count": 1,
   "id": "059b753b",
   "metadata": {},
   "outputs": [],
   "source": [
    "from pyspark import SparkContext\n",
    "SparkContext.setSystemProperty('spark.executor.memory', '15g')\n",
    "sc = SparkContext(\"local\", \"App Name\")"
   ]
  },
  {
   "cell_type": "code",
   "execution_count": 2,
   "id": "e3b684f1",
   "metadata": {},
   "outputs": [],
   "source": [
    "from pyspark.sql import SparkSession\n",
    "from pyspark.sql.functions import count, desc, col, max\n",
    "from pyspark.ml.feature import StringIndexer\n",
    "from pyspark.ml.param import Param, Params\n",
    "from pyspark.ml import Pipeline\n",
    "from pyspark.ml.recommendation import ALS\n",
    "from pyspark.ml.tuning import TrainValidationSplit, ParamGridBuilder"
   ]
  },
  {
   "cell_type": "markdown",
   "id": "1baf6518",
   "metadata": {},
   "source": [
    "## Creating the spark session "
   ]
  },
  {
   "cell_type": "code",
   "execution_count": 3,
   "id": "7e4f9a97",
   "metadata": {},
   "outputs": [],
   "source": [
    "spark = SparkSession.builder.appName('lastfm').getOrCreate()"
   ]
  },
  {
   "cell_type": "markdown",
   "id": "14bec429",
   "metadata": {},
   "source": [
    "# Loading the Dataset"
   ]
  },
  {
   "cell_type": "code",
   "execution_count": 4,
   "id": "e08fff45",
   "metadata": {},
   "outputs": [
    {
     "name": "stdout",
     "output_type": "stream",
     "text": [
      "+-----------+-------------+--------------------+---------------+--------------------+\n",
      "|    user_id|         date|               track|         artist|               album|\n",
      "+-----------+-------------+--------------------+---------------+--------------------+\n",
      "|000Silenced|1299680100000|           Price Tag|       Jessie J|         Who You Are|\n",
      "|000Silenced|1299679920000|Price Tag (Acoust...|       Jessie J|           Price Tag|\n",
      "|000Silenced|1299679440000|Be Mine! (Ballad ...|          Robyn|            Be Mine!|\n",
      "|000Silenced|1299679200000|            Acapella|          Kelis|            Acapella|\n",
      "|000Silenced|1299675660000|   I'm Not Invisible|      The Tease|   I'm Not Invisible|\n",
      "|000Silenced|1297511400000|Bounce (Feat NORE...|       MSTRKRFT|         Fist of God|\n",
      "|000Silenced|1294498440000|Don't Stop The Mu...|        Rihanna|Addicted 2 Bassli...|\n",
      "|000Silenced|1292438340000|               ObZen|      Meshuggah|               ObZen|\n",
      "|000Silenced|1292437740000|   Yama's Messengers|         Gojira|The Way of All Flesh|\n",
      "|000Silenced|1292436360000|On the Brink of E...|   Napalm Death|Time Waits For No...|\n",
      "|000Silenced|1292436360000|On the Brink of E...|   Napalm Death|Time Waits For No...|\n",
      "|000Silenced|1292435940000|        In Deference|   Napalm Death|      Smear Campaign|\n",
      "|000Silenced|1292434920000|      Post(?)organic|    Decapitated|Organic Hallucinosis|\n",
      "|000Silenced|1292434560000|        Mind Feeders|   Dom & Roland| No Strings Attached|\n",
      "|000Silenced|1292434320000|Necrosadistic War...|Cannibal Corpse|                Kill|\n",
      "|000Silenced|1292365560000|     Dance All Night|   Dom & Roland|          Chronology|\n",
      "|000Silenced|1292365260000|          Late Night|   Dom & Roland|          Chronology|\n",
      "|000Silenced|1292365020000|          Freak Seen|   Dom & Roland|          Chronology|\n",
      "|000Silenced|1292364720000|Paradrenasite (Hi...|   Dom & Roland|          Chronology|\n",
      "|000Silenced|1292364300000|               Rhino|   Dom & Roland|          Chronology|\n",
      "+-----------+-------------+--------------------+---------------+--------------------+\n",
      "only showing top 20 rows\n",
      "\n"
     ]
    }
   ],
   "source": [
    "file_path = '/Users/taylorgonzalez/Downloads/Music Recommender Dataset/listenings.csv'\n",
    "df_listenings = spark.read.format('csv').option('header', True).option('inferSchema', True).load(file_path)\n",
    "df_listenings.show()"
   ]
  },
  {
   "cell_type": "markdown",
   "id": "9566a7d0",
   "metadata": {},
   "source": [
    "# Cleaning Tables "
   ]
  },
  {
   "cell_type": "code",
   "execution_count": 5,
   "id": "32b8da1b",
   "metadata": {},
   "outputs": [
    {
     "name": "stdout",
     "output_type": "stream",
     "text": [
      "+-----------+--------------------+---------------+--------------------+\n",
      "|    user_id|               track|         artist|               album|\n",
      "+-----------+--------------------+---------------+--------------------+\n",
      "|000Silenced|           Price Tag|       Jessie J|         Who You Are|\n",
      "|000Silenced|Price Tag (Acoust...|       Jessie J|           Price Tag|\n",
      "|000Silenced|Be Mine! (Ballad ...|          Robyn|            Be Mine!|\n",
      "|000Silenced|            Acapella|          Kelis|            Acapella|\n",
      "|000Silenced|   I'm Not Invisible|      The Tease|   I'm Not Invisible|\n",
      "|000Silenced|Bounce (Feat NORE...|       MSTRKRFT|         Fist of God|\n",
      "|000Silenced|Don't Stop The Mu...|        Rihanna|Addicted 2 Bassli...|\n",
      "|000Silenced|               ObZen|      Meshuggah|               ObZen|\n",
      "|000Silenced|   Yama's Messengers|         Gojira|The Way of All Flesh|\n",
      "|000Silenced|On the Brink of E...|   Napalm Death|Time Waits For No...|\n",
      "|000Silenced|On the Brink of E...|   Napalm Death|Time Waits For No...|\n",
      "|000Silenced|        In Deference|   Napalm Death|      Smear Campaign|\n",
      "|000Silenced|      Post(?)organic|    Decapitated|Organic Hallucinosis|\n",
      "|000Silenced|        Mind Feeders|   Dom & Roland| No Strings Attached|\n",
      "|000Silenced|Necrosadistic War...|Cannibal Corpse|                Kill|\n",
      "|000Silenced|     Dance All Night|   Dom & Roland|          Chronology|\n",
      "|000Silenced|          Late Night|   Dom & Roland|          Chronology|\n",
      "|000Silenced|          Freak Seen|   Dom & Roland|          Chronology|\n",
      "|000Silenced|Paradrenasite (Hi...|   Dom & Roland|          Chronology|\n",
      "|000Silenced|               Rhino|   Dom & Roland|          Chronology|\n",
      "+-----------+--------------------+---------------+--------------------+\n",
      "only showing top 20 rows\n",
      "\n"
     ]
    }
   ],
   "source": [
    "# Dropping date column\n",
    "df_listenings = df_listenings.drop('date')\n",
    "df_listenings.show()"
   ]
  },
  {
   "cell_type": "code",
   "execution_count": 6,
   "id": "e066705d",
   "metadata": {},
   "outputs": [
    {
     "name": "stdout",
     "output_type": "stream",
     "text": [
      "+-----------+--------------------+---------------+--------------------+\n",
      "|    user_id|               track|         artist|               album|\n",
      "+-----------+--------------------+---------------+--------------------+\n",
      "|000Silenced|           Price Tag|       Jessie J|         Who You Are|\n",
      "|000Silenced|Price Tag (Acoust...|       Jessie J|           Price Tag|\n",
      "|000Silenced|Be Mine! (Ballad ...|          Robyn|            Be Mine!|\n",
      "|000Silenced|            Acapella|          Kelis|            Acapella|\n",
      "|000Silenced|   I'm Not Invisible|      The Tease|   I'm Not Invisible|\n",
      "|000Silenced|Bounce (Feat NORE...|       MSTRKRFT|         Fist of God|\n",
      "|000Silenced|Don't Stop The Mu...|        Rihanna|Addicted 2 Bassli...|\n",
      "|000Silenced|               ObZen|      Meshuggah|               ObZen|\n",
      "|000Silenced|   Yama's Messengers|         Gojira|The Way of All Flesh|\n",
      "|000Silenced|On the Brink of E...|   Napalm Death|Time Waits For No...|\n",
      "|000Silenced|On the Brink of E...|   Napalm Death|Time Waits For No...|\n",
      "|000Silenced|        In Deference|   Napalm Death|      Smear Campaign|\n",
      "|000Silenced|      Post(?)organic|    Decapitated|Organic Hallucinosis|\n",
      "|000Silenced|        Mind Feeders|   Dom & Roland| No Strings Attached|\n",
      "|000Silenced|Necrosadistic War...|Cannibal Corpse|                Kill|\n",
      "|000Silenced|     Dance All Night|   Dom & Roland|          Chronology|\n",
      "|000Silenced|          Late Night|   Dom & Roland|          Chronology|\n",
      "|000Silenced|          Freak Seen|   Dom & Roland|          Chronology|\n",
      "|000Silenced|Paradrenasite (Hi...|   Dom & Roland|          Chronology|\n",
      "|000Silenced|               Rhino|   Dom & Roland|          Chronology|\n",
      "+-----------+--------------------+---------------+--------------------+\n",
      "only showing top 20 rows\n",
      "\n"
     ]
    }
   ],
   "source": [
    "# Dropping missing values in data \n",
    "df_listenings = df_listenings.na.drop()\n",
    "df_listenings.show()"
   ]
  },
  {
   "cell_type": "markdown",
   "id": "62e5e329",
   "metadata": {},
   "source": [
    "# Aggregation"
   ]
  },
  {
   "cell_type": "code",
   "execution_count": 7,
   "id": "f136a123",
   "metadata": {},
   "outputs": [
    {
     "name": "stdout",
     "output_type": "stream",
     "text": [
      "13758905 4\n"
     ]
    }
   ],
   "source": [
    "row_numbers = df_listenings.count()\n",
    "column_numbers = len(df_listenings.columns)\n",
    "print(row_numbers, column_numbers)"
   ]
  },
  {
   "cell_type": "code",
   "execution_count": 8,
   "id": "b46d9b6f",
   "metadata": {},
   "outputs": [
    {
     "name": "stdout",
     "output_type": "stream",
     "text": [
      "+-------+--------------------+-----+\n",
      "|user_id|               track|count|\n",
      "+-------+--------------------+-----+\n",
      "| --Seph|Chelsea Hotel - L...|    1|\n",
      "| --Seph|          Paris 2004|    7|\n",
      "| --Seph|Airplanes [feat H...|    1|\n",
      "| --Seph|              Monday|    1|\n",
      "| --Seph|         The Embrace|    1|\n",
      "| --Seph|Hungarian Dance No 5|    1|\n",
      "| --Seph|       Life On Mars?|    1|\n",
      "| --Seph|Belina (Original ...|    1|\n",
      "| --Seph| White Winter Hymnal|    3|\n",
      "| --Seph|               Leloo|    1|\n",
      "| --Seph|      Hour for magic|    2|\n",
      "| --Seph|Hungarian Rhapsod...|    1|\n",
      "| --Seph|     The Way We Were|    1|\n",
      "| --Seph| Air on the G String|    1|\n",
      "| --Seph|Vestido Estampado...|    1|\n",
      "| --Seph|        Window Blues|    1|\n",
      "| --Seph|  California Waiting|    1|\n",
      "| --Seph|       Phantom Pt II|    1|\n",
      "| --Seph|Virus (Luke Fair ...|    1|\n",
      "| --Seph|   Summa for Strings|    1|\n",
      "+-------+--------------------+-----+\n",
      "only showing top 20 rows\n",
      "\n"
     ]
    }
   ],
   "source": [
    "# Ordering data by user_id and track with count per track\n",
    "df_listenings_agg = df_listenings.select('user_id', 'track').groupby('user_id', 'track').agg(count('*').alias('count')).orderBy('user_id')\n",
    "df_listenings_agg.show()"
   ]
  },
  {
   "cell_type": "code",
   "execution_count": 9,
   "id": "29acdc9e",
   "metadata": {},
   "outputs": [
    {
     "name": "stdout",
     "output_type": "stream",
     "text": [
      "9930128 3\n"
     ]
    }
   ],
   "source": [
    "# Displaying newly formed data \n",
    "row_numbers = df_listenings_agg.count()\n",
    "column_numbers = len(df_listenings_agg.columns)\n",
    "print(row_numbers, column_numbers)"
   ]
  },
  {
   "cell_type": "markdown",
   "id": "e7d0ca8c",
   "metadata": {},
   "source": [
    "# Converting string columns into index columns "
   ]
  },
  {
   "cell_type": "code",
   "execution_count": 10,
   "id": "05508ae7",
   "metadata": {},
   "outputs": [],
   "source": [
    "# Creating a sample size to work with\n",
    "df_listenings_agg = df_listenings_agg.limit(20000)"
   ]
  },
  {
   "cell_type": "code",
   "execution_count": 22,
   "id": "e3ee014a",
   "metadata": {},
   "outputs": [
    {
     "name": "stdout",
     "output_type": "stream",
     "text": [
      "+-------+--------------------+-----+-------------+-----------+\n",
      "|user_id|               track|count|user_id_index|track_index|\n",
      "+-------+--------------------+-----+-------------+-----------+\n",
      "| --Seph|          Nightmares|    1|         69.0|    10600.0|\n",
      "| --Seph|Virus (Luke Fair ...|    1|         69.0|    15893.0|\n",
      "| --Seph|Airplanes [feat H...|    1|         69.0|      521.0|\n",
      "| --Seph|Belina (Original ...|    1|         69.0|     3280.0|\n",
      "| --Seph|              Monday|    1|         69.0|      334.0|\n",
      "| --Seph|Hungarian Dance No 5|    1|         69.0|     7555.0|\n",
      "| --Seph|       Life On Mars?|    1|         69.0|     1164.0|\n",
      "| --Seph|  California Waiting|    1|         69.0|      195.0|\n",
      "| --Seph|       Phantom Pt II|    1|         69.0|     1378.0|\n",
      "| --Seph|   Summa for Strings|    1|         69.0|    13737.0|\n",
      "| --Seph|      Hour for magic|    2|         69.0|     7492.0|\n",
      "| --Seph|Hungarian Rhapsod...|    1|         69.0|     7556.0|\n",
      "| --Seph|     The Way We Were|    1|         69.0|    14958.0|\n",
      "| --Seph| Air on the G String|    1|         69.0|     2456.0|\n",
      "| --Seph|Vestido Estampado...|    1|         69.0|    15847.0|\n",
      "| --Seph|        Window Blues|    1|         69.0|     1841.0|\n",
      "| --Seph| White Winter Hymnal|    3|         69.0|       59.0|\n",
      "| --Seph|         The Embrace|    1|         69.0|    14386.0|\n",
      "| --Seph|          Paris 2004|    7|         69.0|    11311.0|\n",
      "| --Seph|Chelsea Hotel - L...|    1|         69.0|     4183.0|\n",
      "+-------+--------------------+-----+-------------+-----------+\n",
      "only showing top 20 rows\n",
      "\n"
     ]
    }
   ],
   "source": [
    "# Iterating over data and adding indexes per row \n",
    "indexer = [StringIndexer(inputCol=col, outputCol=col+'_index').setHandleInvalid(\"keep\").fit(df_listenings_agg) for col in list(set(df_listenings_agg.columns) - set(['count']))]\n",
    "\n",
    "pipeline = Pipeline(stages=indexer)\n",
    "\n",
    "data = pipeline.fit(df_listenings_agg).transform(df_listenings_agg)\n",
    "data.show()"
   ]
  },
  {
   "cell_type": "code",
   "execution_count": 23,
   "id": "ade09726",
   "metadata": {},
   "outputs": [],
   "source": [
    "data = data.select('user_id_index' ,'track_index','count').orderBy('user_id_index')"
   ]
  },
  {
   "cell_type": "code",
   "execution_count": 24,
   "id": "bc1a5640",
   "metadata": {},
   "outputs": [
    {
     "name": "stdout",
     "output_type": "stream",
     "text": [
      "+-------------+-----------+-----+\n",
      "|user_id_index|track_index|count|\n",
      "+-------------+-----------+-----+\n",
      "|          0.0|    10628.0|    1|\n",
      "|          0.0|     3338.0|    1|\n",
      "|          0.0|    12168.0|    1|\n",
      "|          0.0|    11626.0|    2|\n",
      "|          0.0|    10094.0|    4|\n",
      "|          0.0|      427.0|    1|\n",
      "|          0.0|    16878.0|    1|\n",
      "|          0.0|    11722.0|    1|\n",
      "|          0.0|    15074.0|    1|\n",
      "|          0.0|     1359.0|    1|\n",
      "|          0.0|     5874.0|    1|\n",
      "|          0.0|    11184.0|    1|\n",
      "|          0.0|     2372.0|    2|\n",
      "|          0.0|    14316.0|    1|\n",
      "|          0.0|     5346.0|    1|\n",
      "|          0.0|    11194.0|    1|\n",
      "|          0.0|     2241.0|    1|\n",
      "|          0.0|     2864.0|    1|\n",
      "|          0.0|     2663.0|    4|\n",
      "|          0.0|     6064.0|    1|\n",
      "+-------------+-----------+-----+\n",
      "only showing top 20 rows\n",
      "\n"
     ]
    }
   ],
   "source": [
    "data.show()"
   ]
  },
  {
   "cell_type": "markdown",
   "id": "d4299f74",
   "metadata": {},
   "source": [
    "# Train and Test Data"
   ]
  },
  {
   "cell_type": "code",
   "execution_count": 25,
   "id": "be330913",
   "metadata": {},
   "outputs": [],
   "source": [
    "(training,test) = data.randomSplit([0.5,0.5])"
   ]
  },
  {
   "cell_type": "markdown",
   "id": "334e3b6a",
   "metadata": {},
   "source": [
    "# Create Model"
   ]
  },
  {
   "cell_type": "code",
   "execution_count": 26,
   "id": "d9768f5b",
   "metadata": {},
   "outputs": [],
   "source": [
    "USERID = 'user_id_index'\n",
    "TRACK = 'track_index'\n",
    "COUNT = 'count'\n",
    "\n",
    "als = ALS(maxIter=5 , regParam=0.01, userCol=USERID, itemCol=TRACK, ratingCol=COUNT)\n",
    "model = als.fit(training)\n",
    "\n",
    "predictions = model.transform(test)"
   ]
  },
  {
   "cell_type": "markdown",
   "id": "bca32390",
   "metadata": {},
   "source": [
    "# Top 10 Track recommendations for each user "
   ]
  },
  {
   "cell_type": "code",
   "execution_count": 27,
   "id": "1dc805a5",
   "metadata": {},
   "outputs": [
    {
     "name": "stderr",
     "output_type": "stream",
     "text": [
      "/Users/taylorgonzalez/opt/anaconda3/lib/python3.8/site-packages/pyspark/sql/context.py:125: FutureWarning: Deprecated in 3.0.0. Use SparkSession.builder.getOrCreate() instead.\n",
      "  warnings.warn(\n"
     ]
    }
   ],
   "source": [
    "recs = model.recommendForAllUsers(10)"
   ]
  },
  {
   "cell_type": "code",
   "execution_count": 28,
   "id": "53c8fe87",
   "metadata": {},
   "outputs": [
    {
     "name": "stdout",
     "output_type": "stream",
     "text": [
      "+-------------+--------------------+\n",
      "|user_id_index|     recommendations|\n",
      "+-------------+--------------------+\n",
      "|            0|[{1739, 11.687727...|\n",
      "|            1|[{16908, 12.54488...|\n",
      "|            2|[{11940, 13.24107...|\n",
      "|            3|[{1739, 10.787095...|\n",
      "|            4|[{461, 7.879473},...|\n",
      "|            5|[{225, 9.314997},...|\n",
      "|            6|[{11940, 42.61984...|\n",
      "|            7|[{225, 12.201307}...|\n",
      "|            8|[{11940, 12.63299...|\n",
      "|            9|[{11940, 25.75350...|\n",
      "|           10|[{12890, 8.892447...|\n",
      "|           11|[{11940, 14.54535...|\n",
      "|           12|[{308, 5.45276}, ...|\n",
      "|           13|[{12890, 6.350863...|\n",
      "|           14|[{308, 14.327518}...|\n",
      "|           15|[{233, 11.043821}...|\n",
      "|           16|[{1739, 11.146429...|\n",
      "|           17|[{308, 8.705842},...|\n",
      "|           18|[{308, 10.246171}...|\n",
      "|           19|[{11940, 7.087863...|\n",
      "+-------------+--------------------+\n",
      "only showing top 20 rows\n",
      "\n"
     ]
    }
   ],
   "source": [
    "recs.show()"
   ]
  },
  {
   "cell_type": "code",
   "execution_count": 29,
   "id": "f7da7466",
   "metadata": {},
   "outputs": [
    {
     "data": {
      "text/plain": [
       "[Row(user_id_index=0, recommendations=[Row(track_index=1739, rating=11.687726974487305), Row(track_index=5292, rating=9.350181579589844), Row(track_index=3345, rating=8.483217239379883), Row(track_index=233, rating=8.144327163696289), Row(track_index=12060, rating=8.022287368774414), Row(track_index=1439, rating=7.7392168045043945), Row(track_index=2128, rating=7.078488349914551), Row(track_index=14537, rating=7.078488349914551), Row(track_index=2245, rating=7.012636184692383), Row(track_index=14792, rating=7.012636184692383)])]"
      ]
     },
     "execution_count": 29,
     "metadata": {},
     "output_type": "execute_result"
    }
   ],
   "source": [
    "recs.take(1)"
   ]
  },
  {
   "cell_type": "code",
   "execution_count": null,
   "id": "a928e83d",
   "metadata": {},
   "outputs": [],
   "source": []
  }
 ],
 "metadata": {
  "kernelspec": {
   "display_name": "Python 3",
   "language": "python",
   "name": "python3"
  },
  "language_info": {
   "codemirror_mode": {
    "name": "ipython",
    "version": 3
   },
   "file_extension": ".py",
   "mimetype": "text/x-python",
   "name": "python",
   "nbconvert_exporter": "python",
   "pygments_lexer": "ipython3",
   "version": "3.8.8"
  }
 },
 "nbformat": 4,
 "nbformat_minor": 5
}
