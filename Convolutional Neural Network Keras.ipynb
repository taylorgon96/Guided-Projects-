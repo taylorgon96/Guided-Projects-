{
 "cells": [
  {
   "cell_type": "markdown",
   "id": "94c346ff",
   "metadata": {},
   "source": [
    "# Load the Data"
   ]
  },
  {
   "cell_type": "code",
   "execution_count": 1,
   "id": "3bc0a2aa",
   "metadata": {},
   "outputs": [],
   "source": [
    "from keras.datasets import fashion_mnist "
   ]
  },
  {
   "cell_type": "code",
   "execution_count": 2,
   "id": "136f054d",
   "metadata": {},
   "outputs": [],
   "source": [
    "(X_train, y_train), (X_test, y_test) = fashion_mnist.load_data()"
   ]
  },
  {
   "cell_type": "markdown",
   "id": "3fa76c2a",
   "metadata": {},
   "source": [
    "# Analyze the Data "
   ]
  },
  {
   "cell_type": "code",
   "execution_count": 3,
   "id": "7c74a091",
   "metadata": {},
   "outputs": [],
   "source": [
    "# Importing libraries \n",
    "import numpy as np\n",
    "from tensorflow.keras.utils import to_categorical\n",
    "import matplotlib.pyplot as plt \n",
    "%matplotlib inline "
   ]
  },
  {
   "cell_type": "code",
   "execution_count": 4,
   "id": "df91d405",
   "metadata": {},
   "outputs": [
    {
     "name": "stdout",
     "output_type": "stream",
     "text": [
      "Training data shape :  (60000, 28, 28) (60000,)\n",
      "Testing data shape :  (10000, 28, 28) (10000,)\n"
     ]
    }
   ],
   "source": [
    "print('Training data shape : ', X_train.shape, y_train.shape)\n",
    "print('Testing data shape : ', X_test.shape, y_test.shape)"
   ]
  },
  {
   "cell_type": "code",
   "execution_count": 5,
   "id": "f1721d16",
   "metadata": {},
   "outputs": [
    {
     "name": "stdout",
     "output_type": "stream",
     "text": [
      "Total number of outputs : 10\n",
      "Output classes :  [0 1 2 3 4 5 6 7 8 9]\n"
     ]
    }
   ],
   "source": [
    "# Checking for number of classes in data \n",
    "classes = np.unique(y_train)\n",
    "nClasses = len(classes)\n",
    "\n",
    "print('Total number of outputs :', nClasses)\n",
    "print('Output classes : ', classes)"
   ]
  },
  {
   "cell_type": "code",
   "execution_count": 6,
   "id": "c4b5c0f3",
   "metadata": {},
   "outputs": [
    {
     "data": {
      "text/plain": [
       "Text(0.5, 1.0, 'Ground Truth: 9')"
      ]
     },
     "execution_count": 6,
     "metadata": {},
     "output_type": "execute_result"
    },
    {
     "data": {
      "image/png": "[encoded data removed]",
      "text/plain": [
       "<Figure size 360x360 with 2 Axes>"
      ]
     },
     "metadata": {
      "needs_background": "light"
     },
     "output_type": "display_data"
    }
   ],
   "source": [
    "# Plotting a sample \n",
    "plt.figure(figsize=[5,5])\n",
    "\n",
    "plt.subplot(121)\n",
    "plt.imshow(X_train[0,:,:], cmap='gray')\n",
    "plt.title('Ground Truth: {}'.format(y_train[0]))\n",
    "\n",
    "plt.subplot(122)\n",
    "plt.imshow(X_test[0,:,:], cmap='gray')\n",
    "(plt.title('Ground Truth: {}'.format(y_test[0])))"
   ]
  },
  {
   "cell_type": "markdown",
   "id": "a7f01c08",
   "metadata": {},
   "source": [
    "# Data Preprocessing "
   ]
  },
  {
   "cell_type": "code",
   "execution_count": 7,
   "id": "da1c1a34",
   "metadata": {},
   "outputs": [
    {
     "data": {
      "text/plain": [
       "((60000, 28, 28, 1), (10000, 28, 28, 1))"
      ]
     },
     "execution_count": 7,
     "metadata": {},
     "output_type": "execute_result"
    }
   ],
   "source": [
    "# Reshaping data into a matrix \n",
    "X_train = X_train.reshape(-1, 28, 28, 1)\n",
    "X_test = X_test.reshape(-1, 28, 28, 1)\n",
    "X_train.shape, X_test.shape"
   ]
  },
  {
   "cell_type": "code",
   "execution_count": 8,
   "id": "13881cd7",
   "metadata": {},
   "outputs": [],
   "source": [
    "# Normalizing data\n",
    "X_train = X_train.astype('float32')\n",
    "X_test = X_test.astype('float32')\n",
    "X_train = X_train / 255.\n",
    "X_test = X_test / 255."
   ]
  },
  {
   "cell_type": "code",
   "execution_count": 9,
   "id": "4e1302fc",
   "metadata": {},
   "outputs": [
    {
     "name": "stdout",
     "output_type": "stream",
     "text": [
      "Original label:  9\n",
      "After conversion to one-hot:  [0. 0. 0. 0. 0. 0. 0. 0. 0. 1.]\n"
     ]
    }
   ],
   "source": [
    "# Changing labels from categorical to one-hot encoding \n",
    "y_train_one_hot = to_categorical(y_train)\n",
    "y_test_one_hot = to_categorical(y_test)\n",
    "\n",
    "print('Original label: ', y_train[0])\n",
    "print('After conversion to one-hot: ', y_train_one_hot[0])"
   ]
  },
  {
   "cell_type": "code",
   "execution_count": 10,
   "id": "c6eaa87a",
   "metadata": {},
   "outputs": [],
   "source": [
    "# Splitting data\n",
    "from sklearn.model_selection import train_test_split\n",
    "X_train, X_valid, train_label,valid_label = train_test_split(X_train, y_train_one_hot, test_size=0.2, random_state=13)"
   ]
  },
  {
   "cell_type": "code",
   "execution_count": 11,
   "id": "2475156e",
   "metadata": {},
   "outputs": [
    {
     "data": {
      "text/plain": [
       "((48000, 28, 28, 1), (12000, 28, 28, 1), (48000, 10), (12000, 10))"
      ]
     },
     "execution_count": 11,
     "metadata": {},
     "output_type": "execute_result"
    }
   ],
   "source": [
    "X_train.shape, X_valid.shape, train_label.shape, valid_label.shape"
   ]
  },
  {
   "cell_type": "markdown",
   "id": "32893cac",
   "metadata": {},
   "source": [
    "# Model the Data"
   ]
  },
  {
   "cell_type": "code",
   "execution_count": 12,
   "id": "be6a4236",
   "metadata": {},
   "outputs": [],
   "source": [
    "# Importing libraries \n",
    "import keras \n",
    "import tensorflow as tf\n",
    "from keras.models import Sequential, Input, Model\n",
    "from keras.layers import Dense, Dropout, Flatten\n",
    "from keras.layers import Conv2D, MaxPooling2D\n",
    "from keras.layers.normalization import batch_normalization\n",
    "from keras.layers.advanced_activations import LeakyReLU"
   ]
  },
  {
   "cell_type": "code",
   "execution_count": 13,
   "id": "d15ed06e",
   "metadata": {},
   "outputs": [],
   "source": [
    "batch_size = 64\n",
    "epochs = 20\n",
    "num_classes = 10"
   ]
  },
  {
   "cell_type": "markdown",
   "id": "124bc35b",
   "metadata": {},
   "source": [
    "# Neural Network Architecture "
   ]
  },
  {
   "cell_type": "code",
   "execution_count": 14,
   "id": "b5ba21e2",
   "metadata": {},
   "outputs": [],
   "source": [
    "# Creating network\n",
    "fashion_model = Sequential()\n",
    "fashion_model.add(Conv2D(32, kernel_size=(3, 3), activation='linear', input_shape=(28,28,1), padding='same'))\n",
    "fashion_model.add(LeakyReLU(alpha=0.1))\n",
    "fashion_model.add(MaxPooling2D((2,2), padding='same'))\n",
    "fashion_model.add(Conv2D(64, (3,3), activation='linear', padding='same'))\n",
    "fashion_model.add(LeakyReLU(alpha=0.1))\n",
    "fashion_model.add(MaxPooling2D((2,2), padding='same'))\n",
    "fashion_model.add(Conv2D(128, (3,3), activation='linear', padding='same'))\n",
    "fashion_model.add(LeakyReLU(alpha=0.1))\n",
    "fashion_model.add(MaxPooling2D((2,2), padding='same'))\n",
    "fashion_model.add(Flatten())\n",
    "fashion_model.add(Dense(128, activation='linear'))\n",
    "fashion_model.add(LeakyReLU(alpha=0.1))\n",
    "fashion_model.add(Dense(num_classes, activation='softmax'))"
   ]
  },
  {
   "cell_type": "markdown",
   "id": "9620a98a",
   "metadata": {},
   "source": [
    "# Compile the Model"
   ]
  },
  {
   "cell_type": "code",
   "execution_count": 15,
   "id": "d766020f",
   "metadata": {},
   "outputs": [],
   "source": [
    "fashion_model.compile(loss=keras.losses.categorical_crossentropy, optimizer=tf.keras.optimizers.Adam(), metrics=['accuracy'])"
   ]
  },
  {
   "cell_type": "code",
   "execution_count": 16,
   "id": "fb43cfac",
   "metadata": {},
   "outputs": [
    {
     "name": "stdout",
     "output_type": "stream",
     "text": [
      "Model: \"sequential\"\n",
      "_________________________________________________________________\n",
      " Layer (type)                Output Shape              Param #   \n",
      "=================================================================\n",
      " conv2d (Conv2D)             (None, 28, 28, 32)        320       \n",
      "                                                                 \n",
      " leaky_re_lu (LeakyReLU)     (None, 28, 28, 32)        0         \n",
      "                                                                 \n",
      " max_pooling2d (MaxPooling2D  (None, 14, 14, 32)       0         \n",
      " )                                                               \n",
      "                                                                 \n",
      " conv2d_1 (Conv2D)           (None, 14, 14, 64)        18496     \n",
      "                                                                 \n",
      " leaky_re_lu_1 (LeakyReLU)   (None, 14, 14, 64)        0         \n",
      "                                                                 \n",
      " max_pooling2d_1 (MaxPooling  (None, 7, 7, 64)         0         \n",
      " 2D)                                                             \n",
      "                                                                 \n",
      " conv2d_2 (Conv2D)           (None, 7, 7, 128)         73856     \n",
      "                                                                 \n",
      " leaky_re_lu_2 (LeakyReLU)   (None, 7, 7, 128)         0         \n",
      "                                                                 \n",
      " max_pooling2d_2 (MaxPooling  (None, 4, 4, 128)        0         \n",
      " 2D)                                                             \n",
      "                                                                 \n",
      " flatten (Flatten)           (None, 2048)              0         \n",
      "                                                                 \n",
      " dense (Dense)               (None, 128)               262272    \n",
      "                                                                 \n",
      " leaky_re_lu_3 (LeakyReLU)   (None, 128)               0         \n",
      "                                                                 \n",
      " dense_1 (Dense)             (None, 10)                1290      \n",
      "                                                                 \n",
      "=================================================================\n",
      "Total params: 356,234\n",
      "Trainable params: 356,234\n",
      "Non-trainable params: 0\n",
      "_________________________________________________________________\n"
     ]
    }
   ],
   "source": [
    "fashion_model.summary()"
   ]
  },
  {
   "cell_type": "markdown",
   "id": "05f59b5f",
   "metadata": {},
   "source": [
    "# Train the Model"
   ]
  },
  {
   "cell_type": "code",
   "execution_count": 17,
   "id": "3ac490d0",
   "metadata": {},
   "outputs": [
    {
     "name": "stdout",
     "output_type": "stream",
     "text": [
      "Epoch 1/20\n",
      "750/750 [==============================] - 30s 39ms/step - loss: 0.4687 - accuracy: 0.8284 - val_loss: 0.3577 - val_accuracy: 0.8717\n",
      "Epoch 2/20\n",
      "750/750 [==============================] - 28s 37ms/step - loss: 0.2894 - accuracy: 0.8949 - val_loss: 0.2935 - val_accuracy: 0.8934\n",
      "Epoch 3/20\n",
      "750/750 [==============================] - 29s 38ms/step - loss: 0.2426 - accuracy: 0.9096 - val_loss: 0.2470 - val_accuracy: 0.9055\n",
      "Epoch 4/20\n",
      "750/750 [==============================] - 29s 38ms/step - loss: 0.2119 - accuracy: 0.9208 - val_loss: 0.2365 - val_accuracy: 0.9171\n",
      "Epoch 5/20\n",
      "750/750 [==============================] - 29s 39ms/step - loss: 0.1885 - accuracy: 0.9300 - val_loss: 0.2318 - val_accuracy: 0.9162\n",
      "Epoch 6/20\n",
      "750/750 [==============================] - 29s 38ms/step - loss: 0.1631 - accuracy: 0.9394 - val_loss: 0.2513 - val_accuracy: 0.9159\n",
      "Epoch 7/20\n",
      "750/750 [==============================] - 30s 40ms/step - loss: 0.1459 - accuracy: 0.9457 - val_loss: 0.2437 - val_accuracy: 0.9184\n",
      "Epoch 8/20\n",
      "750/750 [==============================] - 30s 40ms/step - loss: 0.1236 - accuracy: 0.9538 - val_loss: 0.2581 - val_accuracy: 0.9182\n",
      "Epoch 9/20\n",
      "750/750 [==============================] - 30s 40ms/step - loss: 0.1083 - accuracy: 0.9591 - val_loss: 0.2470 - val_accuracy: 0.9170\n",
      "Epoch 10/20\n",
      "750/750 [==============================] - 31s 41ms/step - loss: 0.0925 - accuracy: 0.9660 - val_loss: 0.2736 - val_accuracy: 0.9203\n",
      "Epoch 11/20\n",
      "750/750 [==============================] - 31s 42ms/step - loss: 0.0771 - accuracy: 0.9715 - val_loss: 0.2665 - val_accuracy: 0.9223\n",
      "Epoch 12/20\n",
      "750/750 [==============================] - 33s 44ms/step - loss: 0.0675 - accuracy: 0.9742 - val_loss: 0.3046 - val_accuracy: 0.9158\n",
      "Epoch 13/20\n",
      "750/750 [==============================] - 33s 43ms/step - loss: 0.0612 - accuracy: 0.9774 - val_loss: 0.3096 - val_accuracy: 0.9218\n",
      "Epoch 14/20\n",
      "750/750 [==============================] - 31s 41ms/step - loss: 0.0503 - accuracy: 0.9807 - val_loss: 0.3607 - val_accuracy: 0.9179\n",
      "Epoch 15/20\n",
      "750/750 [==============================] - 33s 44ms/step - loss: 0.0453 - accuracy: 0.9829 - val_loss: 0.3758 - val_accuracy: 0.9168\n",
      "Epoch 16/20\n",
      "750/750 [==============================] - 33s 44ms/step - loss: 0.0430 - accuracy: 0.9836 - val_loss: 0.3935 - val_accuracy: 0.9163\n",
      "Epoch 17/20\n",
      "750/750 [==============================] - 35s 46ms/step - loss: 0.0382 - accuracy: 0.9857 - val_loss: 0.4028 - val_accuracy: 0.9178\n",
      "Epoch 18/20\n",
      "750/750 [==============================] - 33s 45ms/step - loss: 0.0359 - accuracy: 0.9860 - val_loss: 0.4023 - val_accuracy: 0.9208\n",
      "Epoch 19/20\n",
      "750/750 [==============================] - 34s 45ms/step - loss: 0.0312 - accuracy: 0.9889 - val_loss: 0.4772 - val_accuracy: 0.9187\n",
      "Epoch 20/20\n",
      "750/750 [==============================] - 34s 45ms/step - loss: 0.0308 - accuracy: 0.9881 - val_loss: 0.4326 - val_accuracy: 0.9208\n"
     ]
    }
   ],
   "source": [
    "fashion_train = fashion_model.fit(X_train, train_label, batch_size=batch_size, epochs=epochs, verbose=1, validation_data=(X_valid, valid_label))"
   ]
  },
  {
   "cell_type": "markdown",
   "id": "0e31c658",
   "metadata": {},
   "source": [
    "# Model Evaluation on the Test Set"
   ]
  },
  {
   "cell_type": "code",
   "execution_count": 18,
   "id": "f440ece3",
   "metadata": {},
   "outputs": [],
   "source": [
    "test_eval = fashion_model.evaluate(X_test, y_test_one_hot, verbose=0)"
   ]
  },
  {
   "cell_type": "code",
   "execution_count": 19,
   "id": "0b04cae1",
   "metadata": {},
   "outputs": [
    {
     "name": "stdout",
     "output_type": "stream",
     "text": [
      "Test loss: 0.4301135241985321\n",
      "Test accuracy: 0.9185000061988831\n"
     ]
    }
   ],
   "source": [
    "print('Test loss:', test_eval[0])\n",
    "print('Test accuracy:', test_eval[1])"
   ]
  },
  {
   "cell_type": "code",
   "execution_count": 22,
   "id": "9c258cc2",
   "metadata": {},
   "outputs": [
    {
     "data": {
      "image/png": "[encoded data removed]",
      "text/plain": [
       "<Figure size 432x288 with 1 Axes>"
      ]
     },
     "metadata": {
      "needs_background": "light"
     },
     "output_type": "display_data"
    },
    {
     "data": {
      "image/png": "[encoded data removed]",
      "text/plain": [
       "<Figure size 432x288 with 1 Axes>"
      ]
     },
     "metadata": {
      "needs_background": "light"
     },
     "output_type": "display_data"
    }
   ],
   "source": [
    "# Plotting the results\n",
    "accuracy = fashion_train.history['accuracy'] \n",
    "val_accuracy = fashion_train.history['val_accuracy']\n",
    "loss = fashion_train.history['loss']\n",
    "val_loss = fashion_train.history['val_loss']\n",
    "epochs = range(len(accuracy))\n",
    "plt.plot(epochs, accuracy, 'bo', label='Training accuracy')\n",
    "plt.plot(epochs, val_accuracy, 'b', label='Validation accuracy')\n",
    "plt.title('Training and validation accuracy')\n",
    "plt.legend()\n",
    "plt.figure()\n",
    "plt.plot(epochs, loss, 'bo', label='Training loss')\n",
    "plt.plot(epochs, val_loss, 'b', label='Validation loss')\n",
    "plt.title('Training and validation loss')\n",
    "plt.legend()\n",
    "plt.show()"
   ]
  },
  {
   "cell_type": "markdown",
   "id": "d5083845",
   "metadata": {},
   "source": [
    "# Adding Dropout into the Network"
   ]
  },
  {
   "cell_type": "code",
   "execution_count": 23,
   "id": "131b470f",
   "metadata": {},
   "outputs": [],
   "source": [
    "batch_size = 64\n",
    "epochs = 20\n",
    "num_classes = 10"
   ]
  },
  {
   "cell_type": "code",
   "execution_count": 24,
   "id": "1ace309c",
   "metadata": {},
   "outputs": [],
   "source": [
    "# Dropout layer to reduce overfiting\n",
    "fashion_model = Sequential()\n",
    "fashion_model.add(Conv2D(32, kernel_size=(3, 3), activation='linear', input_shape=(28,28,1), padding='same'))\n",
    "fashion_model.add(LeakyReLU(alpha=0.1))\n",
    "fashion_model.add(MaxPooling2D((2,2), padding='same'))\n",
    "fashion_model.add(Dropout(0.25))                              \n",
    "fashion_model.add(Conv2D(64, (3,3), activation='linear', padding='same'))\n",
    "fashion_model.add(LeakyReLU(alpha=0.1))\n",
    "fashion_model.add(MaxPooling2D((2,2), padding='same'))\n",
    "fashion_model.add(Dropout(0.25))\n",
    "fashion_model.add(Conv2D(128, (3,3), activation='linear', padding='same'))\n",
    "fashion_model.add(LeakyReLU(alpha=0.1))\n",
    "fashion_model.add(MaxPooling2D((2,2), padding='same'))\n",
    "fashion_model.add(Dropout(0.4))\n",
    "fashion_model.add(Flatten())\n",
    "fashion_model.add(Dense(128, activation='linear'))\n",
    "fashion_model.add(LeakyReLU(alpha=0.1))\n",
    "fashion_model.add(Dropout(0.3))\n",
    "fashion_model.add(Dense(num_classes, activation='softmax'))"
   ]
  },
  {
   "cell_type": "code",
   "execution_count": 26,
   "id": "fe52228e",
   "metadata": {},
   "outputs": [
    {
     "name": "stdout",
     "output_type": "stream",
     "text": [
      "Model: \"sequential_1\"\n",
      "_________________________________________________________________\n",
      " Layer (type)                Output Shape              Param #   \n",
      "=================================================================\n",
      " conv2d_3 (Conv2D)           (None, 28, 28, 32)        320       \n",
      "                                                                 \n",
      " leaky_re_lu_4 (LeakyReLU)   (None, 28, 28, 32)        0         \n",
      "                                                                 \n",
      " max_pooling2d_3 (MaxPooling  (None, 14, 14, 32)       0         \n",
      " 2D)                                                             \n",
      "                                                                 \n",
      " dropout (Dropout)           (None, 14, 14, 32)        0         \n",
      "                                                                 \n",
      " conv2d_4 (Conv2D)           (None, 14, 14, 64)        18496     \n",
      "                                                                 \n",
      " leaky_re_lu_5 (LeakyReLU)   (None, 14, 14, 64)        0         \n",
      "                                                                 \n",
      " max_pooling2d_4 (MaxPooling  (None, 7, 7, 64)         0         \n",
      " 2D)                                                             \n",
      "                                                                 \n",
      " dropout_1 (Dropout)         (None, 7, 7, 64)          0         \n",
      "                                                                 \n",
      " conv2d_5 (Conv2D)           (None, 7, 7, 128)         73856     \n",
      "                                                                 \n",
      " leaky_re_lu_6 (LeakyReLU)   (None, 7, 7, 128)         0         \n",
      "                                                                 \n",
      " max_pooling2d_5 (MaxPooling  (None, 4, 4, 128)        0         \n",
      " 2D)                                                             \n",
      "                                                                 \n",
      " dropout_2 (Dropout)         (None, 4, 4, 128)         0         \n",
      "                                                                 \n",
      " flatten_1 (Flatten)         (None, 2048)              0         \n",
      "                                                                 \n",
      " dense_2 (Dense)             (None, 128)               262272    \n",
      "                                                                 \n",
      " leaky_re_lu_7 (LeakyReLU)   (None, 128)               0         \n",
      "                                                                 \n",
      " dropout_3 (Dropout)         (None, 128)               0         \n",
      "                                                                 \n",
      " dense_3 (Dense)             (None, 10)                1290      \n",
      "                                                                 \n",
      "=================================================================\n",
      "Total params: 356,234\n",
      "Trainable params: 356,234\n",
      "Non-trainable params: 0\n",
      "_________________________________________________________________\n"
     ]
    }
   ],
   "source": [
    "fashion_model.summary()"
   ]
  },
  {
   "cell_type": "code",
   "execution_count": 27,
   "id": "d6daaf93",
   "metadata": {},
   "outputs": [],
   "source": [
    "fashion_model.compile(loss=keras.losses.categorical_crossentropy, optimizer=tf.keras.optimizers.Adam(), metrics=['accuracy'])"
   ]
  },
  {
   "cell_type": "code",
   "execution_count": 29,
   "id": "2ff5f9de",
   "metadata": {},
   "outputs": [
    {
     "name": "stdout",
     "output_type": "stream",
     "text": [
      "Epoch 1/20\n",
      "750/750 [==============================] - 33s 43ms/step - loss: 0.6003 - accuracy: 0.7756 - val_loss: 0.3693 - val_accuracy: 0.8637\n",
      "Epoch 2/20\n",
      "750/750 [==============================] - 32s 43ms/step - loss: 0.3732 - accuracy: 0.8614 - val_loss: 0.3081 - val_accuracy: 0.8910\n",
      "Epoch 3/20\n",
      "750/750 [==============================] - 32s 43ms/step - loss: 0.3282 - accuracy: 0.8783 - val_loss: 0.2801 - val_accuracy: 0.8972\n",
      "Epoch 4/20\n",
      "750/750 [==============================] - 36s 48ms/step - loss: 0.2996 - accuracy: 0.8881 - val_loss: 0.2578 - val_accuracy: 0.9039\n",
      "Epoch 5/20\n",
      "750/750 [==============================] - 37s 49ms/step - loss: 0.2805 - accuracy: 0.8962 - val_loss: 0.2823 - val_accuracy: 0.8951\n",
      "Epoch 6/20\n",
      "750/750 [==============================] - 36s 48ms/step - loss: 0.2671 - accuracy: 0.9006 - val_loss: 0.2470 - val_accuracy: 0.9062\n",
      "Epoch 7/20\n",
      "750/750 [==============================] - 37s 50ms/step - loss: 0.2557 - accuracy: 0.9049 - val_loss: 0.2504 - val_accuracy: 0.9077\n",
      "Epoch 8/20\n",
      "750/750 [==============================] - 38s 51ms/step - loss: 0.2510 - accuracy: 0.9069 - val_loss: 0.2318 - val_accuracy: 0.9128\n",
      "Epoch 9/20\n",
      "750/750 [==============================] - 38s 51ms/step - loss: 0.2418 - accuracy: 0.9102 - val_loss: 0.2301 - val_accuracy: 0.9151\n",
      "Epoch 10/20\n",
      "750/750 [==============================] - 38s 50ms/step - loss: 0.2357 - accuracy: 0.9122 - val_loss: 0.2239 - val_accuracy: 0.9173\n",
      "Epoch 11/20\n",
      "750/750 [==============================] - 38s 51ms/step - loss: 0.2314 - accuracy: 0.9132 - val_loss: 0.2238 - val_accuracy: 0.9201\n",
      "Epoch 12/20\n",
      "750/750 [==============================] - 38s 51ms/step - loss: 0.2227 - accuracy: 0.9161 - val_loss: 0.2160 - val_accuracy: 0.9194\n",
      "Epoch 13/20\n",
      "750/750 [==============================] - 39s 51ms/step - loss: 0.2163 - accuracy: 0.9194 - val_loss: 0.2393 - val_accuracy: 0.9101\n",
      "Epoch 14/20\n",
      "750/750 [==============================] - 39s 52ms/step - loss: 0.2144 - accuracy: 0.9185 - val_loss: 0.2170 - val_accuracy: 0.9227\n",
      "Epoch 15/20\n",
      "750/750 [==============================] - 42s 56ms/step - loss: 0.2114 - accuracy: 0.9210 - val_loss: 0.2114 - val_accuracy: 0.9261\n",
      "Epoch 16/20\n",
      "750/750 [==============================] - 40s 53ms/step - loss: 0.2049 - accuracy: 0.9219 - val_loss: 0.2084 - val_accuracy: 0.9262\n",
      "Epoch 17/20\n",
      "750/750 [==============================] - 39s 52ms/step - loss: 0.2042 - accuracy: 0.9225 - val_loss: 0.2096 - val_accuracy: 0.9250\n",
      "Epoch 18/20\n",
      "750/750 [==============================] - 40s 53ms/step - loss: 0.1989 - accuracy: 0.9250 - val_loss: 0.2045 - val_accuracy: 0.9251\n",
      "Epoch 19/20\n",
      "750/750 [==============================] - 38s 51ms/step - loss: 0.1964 - accuracy: 0.9244 - val_loss: 0.2131 - val_accuracy: 0.9258\n",
      "Epoch 20/20\n",
      "750/750 [==============================] - 39s 52ms/step - loss: 0.1996 - accuracy: 0.9258 - val_loss: 0.2227 - val_accuracy: 0.9240\n"
     ]
    }
   ],
   "source": [
    "fashion_train_dropout = fashion_model.fit(X_train, train_label, batch_size=batch_size, epochs=epochs, verbose=1, validation_data=(X_valid, valid_label))"
   ]
  },
  {
   "cell_type": "code",
   "execution_count": 30,
   "id": "46d3d62c",
   "metadata": {},
   "outputs": [
    {
     "name": "stdout",
     "output_type": "stream",
     "text": [
      "INFO:tensorflow:Assets written to: fashion_model_dropout.h5py/assets\n"
     ]
    }
   ],
   "source": [
    "fashion_model.save(\"fashion_model_dropout.h5py\")"
   ]
  },
  {
   "cell_type": "markdown",
   "id": "197442e7",
   "metadata": {},
   "source": [
    "# Model Evaluation on the Test Set"
   ]
  },
  {
   "cell_type": "code",
   "execution_count": 31,
   "id": "112dedaf",
   "metadata": {},
   "outputs": [
    {
     "name": "stdout",
     "output_type": "stream",
     "text": [
      "313/313 [==============================] - 1s 4ms/step - loss: 0.2354 - accuracy: 0.9175\n"
     ]
    }
   ],
   "source": [
    "test_eval = fashion_model.evaluate(X_test, y_test_one_hot, verbose=1)"
   ]
  },
  {
   "cell_type": "code",
   "execution_count": 32,
   "id": "54590833",
   "metadata": {},
   "outputs": [
    {
     "name": "stdout",
     "output_type": "stream",
     "text": [
      "Test loss: 0.23537562787532806\n",
      "Test accuracy: 0.9175000190734863\n"
     ]
    }
   ],
   "source": [
    "print('Test loss:', test_eval[0])\n",
    "print('Test accuracy:', test_eval[1])"
   ]
  },
  {
   "cell_type": "code",
   "execution_count": 34,
   "id": "a5cfa82b",
   "metadata": {},
   "outputs": [
    {
     "data": {
      "image/png": "[encoded data removed]",
      "text/plain": [
       "<Figure size 432x288 with 1 Axes>"
      ]
     },
     "metadata": {
      "needs_background": "light"
     },
     "output_type": "display_data"
    },
    {
     "data": {
      "image/png": "[encoded data removed]",
      "text/plain": [
       "<Figure size 432x288 with 1 Axes>"
      ]
     },
     "metadata": {
      "needs_background": "light"
     },
     "output_type": "display_data"
    }
   ],
   "source": [
    "# Plotting the results after adding dropout layer \n",
    "accuracy = fashion_train_dropout.history['accuracy']\n",
    "val_accuracy = fashion_train_dropout.history['val_accuracy']\n",
    "loss = fashion_train_dropout.history['loss']\n",
    "val_loss = fashion_train_dropout.history['val_loss']\n",
    "epochs = range(len(accuracy))\n",
    "plt.plot(epochs, accuracy, 'bo', label='Training accuracy')\n",
    "plt.plot(epochs, val_accuracy, 'b', label='Validation accuracy')\n",
    "plt.title('Training and validation accuracy')\n",
    "plt.legend()\n",
    "plt.figure()\n",
    "plt.plot(epochs, loss, 'bo', label='Training loss')\n",
    "plt.plot(epochs, val_loss, 'b', label='Validation loss')\n",
    "plt.title('Training and validation loss')\n",
    "plt.legend()\n",
    "plt.show()"
   ]
  },
  {
   "cell_type": "markdown",
   "id": "24f3b3f5",
   "metadata": {},
   "source": [
    "# Predicted Labels "
   ]
  },
  {
   "cell_type": "code",
   "execution_count": 37,
   "id": "f0da1e51",
   "metadata": {},
   "outputs": [],
   "source": [
    "predicted_classes = np.argmax(np.round(predicted_classes),axis=1)"
   ]
  },
  {
   "cell_type": "code",
   "execution_count": 38,
   "id": "a053c0dd",
   "metadata": {},
   "outputs": [
    {
     "data": {
      "text/plain": [
       "((10000,), (10000,))"
      ]
     },
     "execution_count": 38,
     "metadata": {},
     "output_type": "execute_result"
    }
   ],
   "source": [
    "predicted_classes.shape, y_test.shape"
   ]
  },
  {
   "cell_type": "code",
   "execution_count": 42,
   "id": "b9f5663d",
   "metadata": {},
   "outputs": [
    {
     "name": "stdout",
     "output_type": "stream",
     "text": [
      "Found 9149 correct labels\n"
     ]
    },
    {
     "data": {
      "image/png": "[encoded data removed]",
      "text/plain": [
       "<Figure size 432x288 with 8 Axes>"
      ]
     },
     "metadata": {
      "needs_background": "light"
     },
     "output_type": "display_data"
    }
   ],
   "source": [
    "correct = np.where(predicted_classes==y_test)[0]\n",
    "print(\"Found %d correct labels\" % len(correct))\n",
    "for i, correct in enumerate(correct[:9]):\n",
    "    plt.subplot(3,3,i+1)\n",
    "    plt.imshow(X_test[correct].reshape(28,28), cmap='gray', interpolation='none')\n",
    "    plt.title(\"Predicted {}, Class {}\".format(predicted_classes[correct], y_test[correct]))\n",
    "    plt.tight_layout()"
   ]
  },
  {
   "cell_type": "code",
   "execution_count": 52,
   "id": "237a60fe",
   "metadata": {},
   "outputs": [
    {
     "name": "stdout",
     "output_type": "stream",
     "text": [
      "Found 851 incorrect labels\n"
     ]
    },
    {
     "data": {
      "image/png": "[encoded data removed]",
      "text/plain": [
       "<Figure size 432x288 with 8 Axes>"
      ]
     },
     "metadata": {
      "needs_background": "light"
     },
     "output_type": "display_data"
    }
   ],
   "source": [
    "incorrect = np.where(predicted_classes!=y_test)[0]\n",
    "print(\"Found %d incorrect labels\" % len(incorrect))\n",
    "for i, incorrect in enumerate(incorrect[:9]):\n",
    "    plt.subplot(3, 3, i + 1)\n",
    "    plt.imshow(X_test[incorrect].reshape(28,28), cmap='gray', interpolation='none')\n",
    "    plt.title(\"Predicted {}, Class {}\".format(predicted_classes[incorrect], y_test[incorrect]))\n",
    "    plt.tight_layout()"
   ]
  },
  {
   "cell_type": "markdown",
   "id": "2eb9f608",
   "metadata": {},
   "source": [
    "# Classification Report "
   ]
  },
  {
   "cell_type": "code",
   "execution_count": 53,
   "id": "7735a712",
   "metadata": {},
   "outputs": [
    {
     "name": "stdout",
     "output_type": "stream",
     "text": [
      "              precision    recall  f1-score   support\n",
      "\n",
      "     Class 0       0.78      0.92      0.84      1000\n",
      "     Class 1       1.00      0.98      0.99      1000\n",
      "     Class 2       0.88      0.87      0.87      1000\n",
      "     Class 3       0.92      0.92      0.92      1000\n",
      "     Class 4       0.92      0.82      0.86      1000\n",
      "     Class 5       0.99      0.98      0.99      1000\n",
      "     Class 6       0.77      0.75      0.76      1000\n",
      "     Class 7       0.94      0.99      0.96      1000\n",
      "     Class 8       0.99      0.98      0.99      1000\n",
      "     Class 9       0.98      0.95      0.97      1000\n",
      "\n",
      "    accuracy                           0.91     10000\n",
      "   macro avg       0.92      0.91      0.92     10000\n",
      "weighted avg       0.92      0.91      0.92     10000\n",
      "\n"
     ]
    }
   ],
   "source": [
    "from sklearn.metrics import classification_report\n",
    "target_names = [\"Class {}\".format(i) for i in range(num_classes)]\n",
    "print(classification_report(y_test, predicted_classes, target_names=target_names))"
   ]
  },
  {
   "cell_type": "code",
   "execution_count": null,
   "id": "5e1ab43b",
   "metadata": {},
   "outputs": [],
   "source": []
  }
 ],
 "metadata": {
  "kernelspec": {
   "display_name": "Python 3",
   "language": "python",
   "name": "python3"
  },
  "language_info": {
   "codemirror_mode": {
    "name": "ipython",
    "version": 3
   },
   "file_extension": ".py",
   "mimetype": "text/x-python",
   "name": "python",
   "nbconvert_exporter": "python",
   "pygments_lexer": "ipython3",
   "version": "3.8.8"
  }
 },
 "nbformat": 4,
 "nbformat_minor": 5
}
